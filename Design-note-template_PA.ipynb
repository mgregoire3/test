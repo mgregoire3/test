{
 "cells": [
  {
   "cell_type": "markdown",
   "metadata": {
    "ein.tags": "worksheet-0",
    "slideshow": {
     "slide_type": "-"
    }
   },
   "source": [
    "# General\n",
    "## Project Information\n",
    "**Project Number:** 15M-00685-13  \n",
    "**Project Name:** New Champlain Bridge Corridor Project  \n",
    "**Project Details:** FDC-H-3525  \n",
    "**Project Initiation Date:** June 19th, 2015  \n",
    "**Engineer:** Marc Grégoire, ing.  \n",
    "**Checker:**  "
   ]
  },
  {
   "cell_type": "markdown",
   "metadata": {
    "ein.tags": "worksheet-0",
    "slideshow": {
     "slide_type": "-"
    }
   },
   "source": [
    "## Calculation Description\n",
    "For the masking walls of P5, anchorages were cast into the pile caps,\n",
    "but threaded bars are not available.  This calculation is for adding 15M\n",
    "bars with Hilti HIT-HY 200 to replace the threaded bars."
   ]
  },
  {
   "cell_type": "markdown",
   "metadata": {
    "ein.tags": "worksheet-0",
    "slideshow": {
     "slide_type": "-"
    }
   },
   "source": [
    "## Design Note Information\n",
    "**Name:** Post-installed Reinforcing  \n",
    "**Version:** PA  \n",
    "**Last Updated:** 2020-Apr-13  \n",
    "**Custodian:** Marc Grégoire, ing.  "
   ]
  },
  {
   "cell_type": "markdown",
   "metadata": {
    "ein.tags": "worksheet-0",
    "slideshow": {
     "slide_type": "-"
    }
   },
   "source": [
    "## Design Note Description\n",
    "### Objective\n",
    "These calculations are prepared for the design of post-installed\n",
    "reinforcing, in particular for Hilti adhesives.  The Canadian Highway\n",
    "Bridge Design Code does not have a detailed design method for such\n",
    "reinforcing."
   ]
  },
  {
   "cell_type": "markdown",
   "metadata": {
    "ein.tags": "worksheet-0",
    "slideshow": {
     "slide_type": "-"
    }
   },
   "source": [
    "## References\n",
    "References (§, Fig., Tab.) are to CAN/CSA-S6-06 and CAN/CSA-S6.1-06 unless noted otherwise."
   ]
  },
  {
   "cell_type": "markdown",
   "metadata": {
    "ein.tags": "worksheet-0",
    "slideshow": {
     "slide_type": "-"
    }
   },
   "source": [
    "## Reference Information\n",
    "### Normative\n",
    "#### Design Code\n",
    "- CAN/CSA-S6-06, Canadian Highway Bridge Design Coede\n",
    "- CAN/CSA-S6.1-06, Commentary on CSA S6-06, Canadian Highway Bridge Design Code"
   ]
  },
  {
   "cell_type": "markdown",
   "metadata": {
    "ein.tags": "worksheet-0",
    "slideshow": {
     "slide_type": "-"
    }
   },
   "source": [
    "### Informative\n",
    "- CAN/CSA-A23.3:19, Design of concrete structures, Annex D Anchorage\n",
    "- W Fuchs, R Eligehausen, JE Breen, Concrete capacity design (CCD)\n",
    "  approach for fastening to concrete, ACI Structural Journal, 1995\n",
    "- Hilti Anchor Fastening Technical Guide, Edition 19\n",
    "  - tabulated results for different conditions\n",
    "- Hilti Post-Installed Reinforcing Bar Guide, 2016\n",
    "  - provides theoretical background"
   ]
  },
  {
   "cell_type": "markdown",
   "metadata": {
    "ein.tags": "worksheet-0",
    "slideshow": {
     "slide_type": "-"
    }
   },
   "source": [
    "## Assumptions\n",
    "1. Plane sections remain plane."
   ]
  },
  {
   "cell_type": "markdown",
   "metadata": {
    "ein.tags": "worksheet-0",
    "slideshow": {
     "slide_type": "-"
    }
   },
   "source": [
    "**Warning: This design note is not a replacement for sound engineering judgement.**"
   ]
  },
  {
   "cell_type": "markdown",
   "metadata": {
    "ein.tags": "worksheet-0",
    "slideshow": {
     "slide_type": "-"
    }
   },
   "source": [
    "# Initialisation"
   ]
  },
  {
   "cell_type": "code",
   "execution_count": 1,
   "metadata": {
    "autoscroll": false,
    "collapsed": false,
    "ein.hycell": false,
    "ein.tags": "worksheet-0",
    "slideshow": {
     "slide_type": "-"
    }
   },
   "outputs": [],
   "source": [
    "from math import pi, sqrt\n",
    "import numpy as np\n",
    "import pandas as pd\n",
    "import matplotlib.pyplot as plt\n",
    "# plt.rc('text', usetex=True)\n",
    "plt.rc('font', family='serif')"
   ]
  },
  {
   "cell_type": "markdown",
   "metadata": {
    "ein.tags": "worksheet-0",
    "slideshow": {
     "slide_type": "-"
    }
   },
   "source": [
    "Record the version of libraries being used."
   ]
  },
  {
   "cell_type": "code",
   "execution_count": 2,
   "metadata": {
    "autoscroll": false,
    "collapsed": false,
    "ein.hycell": false,
    "ein.tags": "worksheet-0",
    "slideshow": {
     "slide_type": "-"
    }
   },
   "outputs": [
    {
     "name": "stdout",
     "output_type": "stream",
     "text": [
      "pandas 0.23.3\n",
      "numpy  1.16.2\n",
      "Fri Jun 12 2020 \n",
      "\n",
      "CPython 3.7.3\n",
      "IPython 5.8.0\n",
      "\n",
      "compiler   : GCC 8.3.0\n",
      "system     : Linux\n",
      "release    : 4.19.0-9-amd64\n",
      "machine    : x86_64\n",
      "processor  : \n",
      "CPU cores  : 2\n",
      "interpreter: 64bit\n",
      "Git hash   :\n"
     ]
    }
   ],
   "source": [
    "%load_ext watermark\n",
    "%watermark -n -v -m -g -iv"
   ]
  },
  {
   "cell_type": "markdown",
   "metadata": {
    "ein.tags": "worksheet-0",
    "slideshow": {
     "slide_type": "-"
    }
   },
   "source": [
    "Use the physics.py module, http://www.southampton.ac.uk/~fangohr/blog/physical-quantities-numerical-value-with-units-in-python.html"
   ]
  },
  {
   "cell_type": "code",
   "execution_count": null,
   "metadata": {
    "autoscroll": false,
    "collapsed": false,
    "ein.hycell": false,
    "ein.tags": "worksheet-0",
    "slideshow": {
     "slide_type": "-"
    }
   },
   "outputs": [],
   "source": [
    "%load_ext physics\n",
    "setprec(5)                      # maximum number of digits to show in floats"
   ]
  },
  {
   "cell_type": "markdown",
   "metadata": {
    "ein.tags": "worksheet-0",
    "slideshow": {
     "slide_type": "-"
    }
   },
   "source": [
    "# Inputs\n",
    "## Material Properties\n",
    "### Concrete and Reinforcing"
   ]
  },
  {
   "cell_type": "code",
   "execution_count": null,
   "metadata": {
    "autoscroll": false,
    "collapsed": false,
    "ein.hycell": false,
    "ein.tags": "worksheet-0",
    "slideshow": {
     "slide_type": "-"
    }
   },
   "outputs": [],
   "source": [
    "fprime_c = 40 MPa\n",
    "ρ_c = (2400 kg/m^3)\n",
    "λ_a = 1.0                       # in normal density concrete\n",
    "a_g = (25 mm)                   # assumed size of coarse aggregate\n",
    "\n",
    "bar_size = \"15M\"\n",
    "f_y = 400 MPa\n",
    "E_s = 200000 MPa\n",
    "substrate_uncracked = 'true'    # if substrate is uncracked at SLS, then choose 'true'"
   ]
  },
  {
   "cell_type": "markdown",
   "metadata": {
    "ein.tags": "worksheet-0",
    "slideshow": {
     "slide_type": "-"
    }
   },
   "source": [
    "## Geometry"
   ]
  },
  {
   "cell_type": "code",
   "execution_count": null,
   "metadata": {
    "autoscroll": false,
    "collapsed": false,
    "ein.hycell": false,
    "ein.tags": "worksheet-0",
    "slideshow": {
     "slide_type": "-"
    }
   },
   "outputs": [],
   "source": []
  },
  {
   "cell_type": "markdown",
   "metadata": {
    "ein.tags": "worksheet-0",
    "slideshow": {
     "slide_type": "-"
    }
   },
   "source": [
    "## Loads"
   ]
  },
  {
   "cell_type": "code",
   "execution_count": null,
   "metadata": {
    "autoscroll": false,
    "collapsed": false,
    "ein.hycell": false,
    "ein.tags": "worksheet-0",
    "slideshow": {
     "slide_type": "-"
    }
   },
   "outputs": [],
   "source": []
  },
  {
   "cell_type": "markdown",
   "metadata": {
    "ein.tags": "worksheet-0",
    "slideshow": {
     "slide_type": "-"
    }
   },
   "source": [
    "# Basic Properties\n",
    "## Derived Properties of Concrete"
   ]
  },
  {
   "cell_type": "code",
   "execution_count": null,
   "metadata": {
    "autoscroll": false,
    "collapsed": false,
    "ein.hycell": false,
    "ein.tags": "worksheet-0",
    "slideshow": {
     "slide_type": "-"
    }
   },
   "outputs": [],
   "source": [
    "fprime_c.convert('MPa')\n",
    "# E_c = (1 MPa) * (6900.0 + 3000.0 * sqrt(fprime_c / (1 MPa))) * (γ_c / (2300 kg/m^3)) **1.5 ; print('E_c = %s S6-14 §8.4.1.7' % E_c)\n",
    "f_cr = 0.4 * sqrt(fprime_c / (1 MPa)) * (1 MPa) ; print('f_cr = %s S6-14 §8.4.1.8' % f_cr)\n",
    "# α_1 = max( (0.85 - 0.0015 * fprime_c.value), 0.67 ) ; print('α_1 = %s S6-14 §8.8.3' % α_1)\n",
    "# β_1 = max( (0.97 - 0.0025 * fprime_c.value), 0.67 ) ; print('β_1 = %s S6-14 §8.8.3' % β_1)\n",
    "# n = E_s / E_c ; print('n = %s' % n)"
   ]
  },
  {
   "cell_type": "markdown",
   "metadata": {
    "ein.tags": "worksheet-0",
    "slideshow": {
     "slide_type": "-"
    }
   },
   "source": [
    "## Derived Properties of Reinforcing\n",
    "Bar diameter and cross-sectional area for specified bar type."
   ]
  },
  {
   "cell_type": "code",
   "execution_count": null,
   "metadata": {
    "autoscroll": false,
    "collapsed": false,
    "ein.hycell": false,
    "ein.tags": "worksheet-0",
    "slideshow": {
     "slide_type": "-"
    }
   },
   "outputs": [],
   "source": [
    "if bar_size == '10M': d_b = (11.3 mm)\n",
    "elif bar_size == '15M': d_b = (16.0 mm)\n",
    "elif bar_size == '20M': d_b = (19.5 mm)\n",
    "elif bar_size == '25M': d_b = (25.2 mm)\n",
    "elif bar_size == '30M': d_b = (29.9 mm)\n",
    "\n",
    "if bar_size == '10M': A_b = (100 mm^2)\n",
    "elif bar_size == '15M': A_b = (200 mm^2)\n",
    "elif bar_size == '20M': A_b = (300 mm^2)\n",
    "elif bar_size == '25M': A_b = (500 mm^2)\n",
    "elif bar_size == '30M': A_b = (700 mm^2)"
   ]
  },
  {
   "cell_type": "markdown",
   "metadata": {
    "ein.tags": "worksheet-0",
    "slideshow": {
     "slide_type": "-"
    }
   },
   "source": [
    "# Analysis"
   ]
  },
  {
   "cell_type": "code",
   "execution_count": null,
   "metadata": {
    "autoscroll": false,
    "collapsed": false,
    "ein.hycell": false,
    "ein.tags": "worksheet-0",
    "slideshow": {
     "slide_type": "-"
    }
   },
   "outputs": [],
   "source": []
  },
  {
   "cell_type": "markdown",
   "metadata": {
    "ein.tags": "worksheet-0",
    "slideshow": {
     "slide_type": "-"
    }
   },
   "source": [
    "# Load Combinations\n",
    "## Ultimate Limit States"
   ]
  },
  {
   "cell_type": "code",
   "execution_count": null,
   "metadata": {
    "autoscroll": false,
    "collapsed": false,
    "ein.hycell": false,
    "ein.tags": "worksheet-0",
    "slideshow": {
     "slide_type": "-"
    }
   },
   "outputs": [],
   "source": []
  },
  {
   "cell_type": "markdown",
   "metadata": {
    "ein.tags": "worksheet-0",
    "slideshow": {
     "slide_type": "-"
    }
   },
   "source": [
    "## Fatigue Limit States\n",
    "Not applicable"
   ]
  },
  {
   "cell_type": "markdown",
   "metadata": {
    "ein.tags": "worksheet-0",
    "slideshow": {
     "slide_type": "-"
    }
   },
   "source": [
    "## Serviceability Limit States"
   ]
  },
  {
   "cell_type": "code",
   "execution_count": null,
   "metadata": {
    "autoscroll": false,
    "collapsed": false,
    "ein.hycell": false,
    "ein.tags": "worksheet-0",
    "slideshow": {
     "slide_type": "-"
    }
   },
   "outputs": [],
   "source": []
  },
  {
   "cell_type": "markdown",
   "metadata": {
    "ein.tags": "worksheet-0",
    "slideshow": {
     "slide_type": "-"
    }
   },
   "source": [
    "# Ultimate Limit State Verifications"
   ]
  },
  {
   "cell_type": "code",
   "execution_count": null,
   "metadata": {
    "autoscroll": false,
    "collapsed": false,
    "ein.hycell": false,
    "ein.tags": "worksheet-0",
    "slideshow": {
     "slide_type": "-"
    }
   },
   "outputs": [],
   "source": [
    "ϕ_c = 0.75                      # Tab. 8.1\n",
    "ϕ_s = 0.90"
   ]
  },
  {
   "cell_type": "markdown",
   "metadata": {
    "ein.tags": "worksheet-0",
    "slideshow": {
     "slide_type": "-"
    }
   },
   "source": [
    "# Serviceability Limit State Verifications"
   ]
  },
  {
   "cell_type": "code",
   "execution_count": null,
   "metadata": {
    "autoscroll": false,
    "collapsed": false,
    "ein.hycell": false,
    "ein.tags": "worksheet-0",
    "slideshow": {
     "slide_type": "-"
    }
   },
   "outputs": [],
   "source": []
  },
  {
   "cell_type": "markdown",
   "metadata": {
    "ein.tags": "worksheet-0",
    "slideshow": {
     "slide_type": "-"
    }
   },
   "source": [
    "# Other Verifications"
   ]
  },
  {
   "cell_type": "code",
   "execution_count": null,
   "metadata": {
    "autoscroll": false,
    "collapsed": false,
    "ein.hycell": false,
    "ein.tags": "worksheet-0",
    "slideshow": {
     "slide_type": "-"
    }
   },
   "outputs": [],
   "source": []
  },
  {
   "cell_type": "markdown",
   "metadata": {
    "ein.tags": "worksheet-0",
    "slideshow": {
     "slide_type": "-"
    }
   },
   "source": [
    "# Conclusions"
   ]
  }
 ],
 "metadata": {
  "kernelspec": {
   "argv": [
    "/usr/bin/python3",
    "-m",
    "ipykernel_launcher",
    "-f",
    "{connection_file}"
   ],
   "display_name": "Python 3",
   "env": null,
   "interrupt_mode": "signal",
   "language": "python",
   "metadata": null,
   "name": "python3"
  },
  "language_info": {
   "codemirror_mode": {
    "name": "ipython",
    "version": 3
   },
   "file_extension": ".py",
   "mimetype": "text/x-python",
   "name": "python",
   "nbconvert_exporter": "python",
   "pygments_lexer": "ipython3",
   "version": "3.7.3"
  },
  "name": "EIN-template_PA.ipynb"
 },
 "nbformat": 4,
 "nbformat_minor": 2
}
