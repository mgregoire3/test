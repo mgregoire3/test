{
 "cells": [
  {
   "cell_type": "markdown",
   "metadata": {
    "ein.tags": "worksheet-0",
    "slideshow": {
     "slide_type": "-"
    }
   },
   "source": [
    "# 1.0 General\n",
    "## 1.1 Project Information\n",
    "**Project Number:** 15M-00685-13  \n",
    "**Project Name:** New Champlain Bridge Corridor Project  \n",
    "**Project Details:**  NCR pending (Formwork displaced for P6A) Axis 1 Diaphragm)  \n",
    "**Project Initiation Date:** June 19th, 2015  \n",
    "**Engineer:** MG  \n",
    "**Checker:**  "
   ]
  },
  {
   "cell_type": "markdown",
   "metadata": {
    "ein.tags": "worksheet-0",
    "slideshow": {
     "slide_type": "-"
    }
   },
   "source": [
    "## 1.2 Calculation Description\n",
    "When pouring the end diaphragm at Axis 1 of P6A, the formwork displaced so that the step for the approach slab is not above reinforcement.  But it is possible that the concrete has sufficient resistance even without\n",
    "reinforcement in this area."
   ]
  },
  {
   "cell_type": "markdown",
   "metadata": {
    "ein.tags": "worksheet-0",
    "slideshow": {
     "slide_type": "-"
    }
   },
   "source": [
    "## 1.3 References\n",
    "References (§, Fig., Tab.) are to CAN/CSA-S6-06 and CAN/CSA-S6.1-06 unless noted otherwise."
   ]
  },
  {
   "cell_type": "markdown",
   "metadata": {
    "ein.tags": "worksheet-0",
    "slideshow": {
     "slide_type": "-"
    }
   },
   "source": [
    "## 1.4 Assumptions:\n",
    "1. Cracks are straight, starting at a distance $a$ from the free edge and\n",
    "   occurring at an angle $θ$ relative to vertical.\n",
    "2. Horizontal force pulling the approach slab away from the end diaphragm is\n",
    "   resisted by the reinforcing dowels.",
    "\n",
    "![Image of end diaphragm](images/Approach-slab-seat.svg)"
   ]
  },
  {
   "cell_type": "markdown",
   "metadata": {
    "ein.tags": "worksheet-0",
    "slideshow": {
     "slide_type": "-"
    }
   },
   "source": [
    "# 2.0 Setup"
   ]
  },
  {
   "cell_type": "code",
   "execution_count": 2,
   "metadata": {
    "autoscroll": false,
    "ein.hycell": false,
    "ein.tags": "worksheet-0",
    "slideshow": {
     "slide_type": "-"
    }
   },
   "outputs": [],
   "source": [
    "from math import pi, sqrt, sin, cos\n",
    "import numpy as np\n",
    "import matplotlib.pyplot as plt\n",
    "#plt.rc('text', usetex=True)\n",
    "#plt.rc('font', family='serif')"
   ]
  },
  {
   "cell_type": "code",
   "execution_count": 3,
   "metadata": {
    "autoscroll": false,
    "ein.hycell": false,
    "ein.tags": "worksheet-0",
    "slideshow": {
     "slide_type": "-"
    }
   },
   "outputs": [
    {
     "name": "stdout",
     "output_type": "stream",
     "text": [
      "numpy 1.16.2\n",
      "Fri May 29 2020 \n",
      "\n",
      "CPython 3.7.3\n",
      "IPython 5.8.0\n",
      "\n",
      "compiler   : GCC 8.3.0\n",
      "system     : Linux\n",
      "release    : 4.19.0-8-amd64\n",
      "machine    : x86_64\n",
      "processor  : \n",
      "CPU cores  : 2\n",
      "interpreter: 64bit\n",
      "Git hash   :\n"
     ]
    }
   ],
   "source": [
    "%load_ext watermark\n",
    "%watermark -n -v -m -g -iv"
   ]
  },
  {
   "cell_type": "code",
   "execution_count": 4,
   "metadata": {
    "autoscroll": false,
    "ein.hycell": false,
    "ein.tags": "worksheet-0",
    "slideshow": {
     "slide_type": "-"
    }
   },
   "outputs": [
    {
     "name": "stdout",
     "output_type": "stream",
     "text": [
      "Unit calculation and physics extensions activated.\n"
     ]
    }
   ],
   "source": [
    "%load_ext physics"
   ]
  },
  {
   "cell_type": "markdown",
   "metadata": {
    "ein.tags": "worksheet-0",
    "slideshow": {
     "slide_type": "-"
    }
   },
   "source": [
    "# 3.0 Inputs\n",
    "## 3.1 Load Factors"
   ]
  },
  {
   "cell_type": "code",
   "execution_count": 5,
   "metadata": {
    "autoscroll": false,
    "ein.hycell": false,
    "ein.tags": "worksheet-0",
    "slideshow": {
     "slide_type": "-"
    }
   },
   "outputs": [],
   "source": [
    "α_L = 1.70                          # Tab. 3.1\n",
    "α_D2 = 1.25\n",
    "α_D3 = 1.50"
   ]
  },
  {
   "cell_type": "markdown",
   "metadata": {
    "ein.tags": "worksheet-0",
    "slideshow": {
     "slide_type": "-"
    }
   },
   "source": [
    "## 3.2 Material Properties"
   ]
  },
  {
   "cell_type": "code",
   "execution_count": 6,
   "metadata": {
    "autoscroll": false,
    "ein.hycell": false,
    "ein.tags": "worksheet-0",
    "slideshow": {
     "slide_type": "-"
    }
   },
   "outputs": [],
   "source": [
    "ϕ_c = 0.75                      # GREEK PHI SYMBOL ϕ, not Φ or φ\n",
    "fprime_c = 25 MPa\n",
    "rho_c = 2400 kg/m^3\n",
    "γ_c = (25 kN/m^3)\n",
    "γ_asphalt = (23.5 kN/m^3)\n",
    "c = 1.00 MPa\n",
    "μ = 1.40"
   ]
  },
  {
   "cell_type": "markdown",
   "metadata": {
    "ein.tags": "worksheet-0",
    "slideshow": {
     "slide_type": "-"
    }
   },
   "source": [
    "## 3.3 Applied Loading"
   ]
  },
  {
   "cell_type": "code",
   "execution_count": 7,
   "metadata": {
    "autoscroll": false,
    "ein.hycell": false,
    "ein.tags": "worksheet-0",
    "slideshow": {
     "slide_type": "-"
    }
   },
   "outputs": [
    {
     "name": "stdout",
     "output_type": "stream",
     "text": [
      "The factored wheel load is 223.125 kN\n",
      "The vertical shear is 231.56591 kN/m\n"
     ]
    }
   ],
   "source": [
    "P_wheel = (87.5 kN)                 # load of one wheel Fig. 3.2\n",
    "DLA = 0.50                          # §3.8.4.5.3\n",
    "P_f = α_L * P_wheel * (1 + DLA) ; print('The factored wheel load is %s' % P_f)\n",
    "q_fL =  P_f / ( (600 mm) + 2 * (250 mm))\n",
    "q_fD = ( α_D2 * 0.5 * (6 m) * (0.25 m) * γ_c\n",
    "        + α_D3 * 0.5 * Q(6, 'm') * Q(0.05, 'm') * γ_asphalt )\n",
    "q_f = q_fL + q_fD\n",
    "q_f.convert('kN/m') ; print('The vertical shear is %s' % q_f)"
   ]
  },
  {
   "cell_type": "markdown",
   "metadata": {
    "ein.tags": "worksheet-0",
    "slideshow": {
     "slide_type": "-"
    }
   },
   "source": [
    "# 4.0 ULS\n",
    "## 4.1 Force Over Crack"
   ]
  },
  {
   "cell_type": "code",
   "execution_count": 8,
   "metadata": {
    "autoscroll": false,
    "ein.hycell": false,
    "ein.tags": "worksheet-0",
    "slideshow": {
     "slide_type": "-"
    }
   },
   "outputs": [
    {
     "name": "stdout",
     "output_type": "stream",
     "text": [
      "Factored shear stress on the crack is 1.1578295 MPa\n"
     ]
    }
   ],
   "source": [
    "def v_f(a, θ, q_f):\n",
    "    cracklength = a / np.sin(θ)\n",
    "    shearstress = q_f * np.cos(θ) / cracklength\n",
    "    shearstress.convert('MPa')\n",
    "    return shearstress\n",
    "\n",
    "print('Factored shear stress on the crack is %s' % v_f((100 mm), pi / 4.0, q_f))"
   ]
  },
  {
   "cell_type": "markdown",
   "metadata": {
    "ein.tags": "worksheet-0",
    "slideshow": {
     "slide_type": "-"
    }
   },
   "source": [
    "## 4.2 Unit Shear Resistance"
   ]
  },
  {
   "cell_type": "code",
   "execution_count": 9,
   "metadata": {
    "autoscroll": false,
    "ein.hycell": false,
    "ein.tags": "worksheet-0",
    "slideshow": {
     "slide_type": "-"
    }
   },
   "outputs": [],
   "source": [
    "def shearfriction(σ):\n",
    "    shearfriction_1 = ϕ_c * (c + μ * σ)\n",
    "    # if shearfriction_1.value < 6.5 :\n",
    "    #     shearfriction = shearfriction_1\n",
    "    # else:\n",
    "    #     shearfriction = (6.5 MPa)\n",
    "    shearfriction = shearfriction_1\n",
    "    return shearfriction"
   ]
  },
  {
   "cell_type": "markdown",
   "metadata": {
    "ein.tags": "worksheet-0",
    "slideshow": {
     "slide_type": "-"
    }
   },
   "source": [
    "## 4.3 Resistance Over Crack"
   ]
  },
  {
   "cell_type": "code",
   "execution_count": 10,
   "metadata": {
    "autoscroll": false,
    "ein.hycell": false,
    "ein.tags": "worksheet-0",
    "slideshow": {
     "slide_type": "-"
    }
   },
   "outputs": [
    {
     "name": "stdout",
     "output_type": "stream",
     "text": [
      "Resistance to shear stress on the crack is 1.965721 MPa\n"
     ]
    }
   ],
   "source": [
    "def v_r(a, θ, q_f):\n",
    "    cracklength = a / np.sin(θ)\n",
    "    normalstress = q_f * np.sin(θ) / cracklength\n",
    "    shearresistance = shearfriction(normalstress)\n",
    "    return shearresistance\n",
    "\n",
    "print('Resistance to shear stress on the crack is %s' % v_r((100 mm), pi / 4.0, q_f))"
   ]
  },
  {
   "cell_type": "markdown",
   "metadata": {
    "ein.tags": "worksheet-0",
    "slideshow": {
     "slide_type": "-"
    }
   },
   "source": [
    "# 5.0 Results"
   ]
  },
  {
   "cell_type": "code",
   "execution_count": 12,
   "metadata": {
    "autoscroll": false,
    "ein.hycell": false,
    "ein.tags": "worksheet-0",
    "slideshow": {
     "slide_type": "-"
    }
   },
   "outputs": [
    {
     "data": {
      "image/png": "[encoded data removed]",
      "text/plain": [
       "<Figure size 432x288 with 1 Axes>"
      ]
     },
     "metadata": {
      "needs_background": "light"
     },
     "output_type": "display_data"
    }
   ],
   "source": [
    "θ = np.linspace(0.1, pi/2.1, 100)\n",
    "\n",
    "plt.plot(np.degrees(θ), v_f((150 mm), θ, q_f) / v_r((150 mm), θ, q_f), label='a=150 mm')\n",
    "plt.plot(np.degrees(θ), v_f((100 mm), θ, q_f) / v_r((100 mm), θ, q_f), label='a=100 mm')\n",
    "plt.plot(np.degrees(θ), v_f((50 mm), θ, q_f) / v_r((50 mm), θ, q_f), label='a=50 mm')\n",
    "plt.plot(np.degrees(θ), v_f((25 mm), θ, q_f) / v_r((25 mm), θ, q_f), label='a=25 mm')\n",
    "\n",
    "plt.xlabel('θ')\n",
    "plt.ylabel('v_f / v_r')\n",
    "plt.title(\"Cracking\")\n",
    "\n",
    "plt.legend()\n",
    "plt.show()"
   ]
  },
  {
   "cell_type": "markdown",
   "metadata": {
    "ein.tags": "worksheet-0",
    "slideshow": {
     "slide_type": "-"
    }
   },
   "source": [
    "# 6.0 Conclusions"
   ]
  },
  {
   "cell_type": "markdown",
   "metadata": {
    "ein.tags": "worksheet-0",
    "slideshow": {
     "slide_type": "-"
    }
   },
   "source": [
    "The applied load will likely break off the edge of the step that supports the approach slab, at about 50 mm from the edge, and at an angle of 20° from vertical; however, in order for the approach slab to be\n",
    "unsupported, it would have to break off at 150 mm from\n",
    "the edge, for which there is more than enough esistance.\n",
    "\n",
    "The step for the approach slab is acceptable even though it is not above reinforced concrete."
   ]
  }
 ],
 "metadata": {
  "kernelspec": {
   "display_name": "Python 3",
   "language": "python",
   "name": "python3"
  },
  "language_info": {
   "codemirror_mode": {
    "name": "ipython",
    "version": 3
   },
   "file_extension": ".py",
   "mimetype": "text/x-python",
   "name": "python",
   "nbconvert_exporter": "python",
   "pygments_lexer": "ipython3",
   "version": "3.7.3"
  },
  "name": "Break-Off-Concrete_PB.ipynb"
 },
 "nbformat": 4,
 "nbformat_minor": 2
}
